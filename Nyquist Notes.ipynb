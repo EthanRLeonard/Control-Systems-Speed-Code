{
 "cells": [
  {
   "cell_type": "markdown",
   "id": "cbe7f457",
   "metadata": {},
   "source": [
    "Design Process:\n",
    "\n",
    "Design PD for transient response, test, design PI for steady state response, test, integrate the two and repeat\n",
    "\n",
    "$G(s)=\\frac{\\omega_n^2}{s^2+2\\zeta \\omega_n s+\\omega_n^2} <-$ canonical second order, \n",
    "if you add a zero: \n",
    "$(s+z) <-$zero $\\newline $ As z gets closer to the poles, the shape of the step response will change more drastically. \n",
    "$\\newline$\n",
    "Example: \n",
    "$T(s)=\\frac{(s+a)}{(s+b)(s+c)}$ If the zero is far from the poles (i.e. a>>b,c) then $T(s)\\approx \\frac{a}{(s+b)(s+c)}$\n",
    "\n",
    "\n",
    "In other words, if the zero is not far from the poles, it will not change the shape of the transient response, though it will change the gain.\n"
   ]
  },
  {
   "cell_type": "markdown",
   "id": "f8b02337",
   "metadata": {},
   "source": [
    "Generally third order systems are approximated with second order systems. Higher order systems are decoupled first. \n",
    "\n",
    "If you add a pole $\\frac{1}{(s+p)}$, the closer the third pole is to the dominant poles, the greater its effect on the transient response. \n",
    "\n"
   ]
  },
  {
   "cell_type": "markdown",
   "id": "bcfd411c",
   "metadata": {},
   "source": [
    "$******************************************** \\newline$\n",
    "Nyquist Criterion and Stability Margin (only discussing currently stable systems) : $\\newline$ \n",
    "Relates the stability of a closed-loop system to the open-loop frequency response and open-loop pole location $\\newline$ \n",
    "\n",
    "Has to do with robustness of the system\n",
    "\n",
    "\n",
    "\n"
   ]
  },
  {
   "cell_type": "markdown",
   "id": "c9afca7e",
   "metadata": {},
   "source": [
    "Can use the quantity $1+G(s)H(s)$ to study the poles because the zeros of that quantity are the poles of $T(s)$ "
   ]
  },
  {
   "cell_type": "markdown",
   "id": "bd3c108d",
   "metadata": {},
   "source": [
    " Let $F(s)=1+G(s)H(s) \\newline$ If all the points in a contour within the complex plane are inserted into that function, the entire contour will be remapped. $\\newline$ If the point of interest is inside that contour, its vector will rotate by 360$^o$, but if it was outside it will oscillate then return to 0 $^o$"
   ]
  },
  {
   "cell_type": "markdown",
   "id": "33cc7d66",
   "metadata": {},
   "source": [
    "N= number of counter clockwise rotations around -1 $\\newline$\n",
    "P=number of enclosed open loop poles of  $ 1 + G(s)H(s) \\newline$\n",
    "Z= number of enclosed CLOSED loop poles "
   ]
  },
  {
   "cell_type": "markdown",
   "id": "15c13df6",
   "metadata": {},
   "source": [
    "$Z=P-N$"
   ]
  },
  {
   "cell_type": "markdown",
   "id": "5783df25",
   "metadata": {},
   "source": [
    "Example: for open loop transfer function $\\frac{500}{(s+1)(s+3)(s+10)}$"
   ]
  },
  {
   "cell_type": "markdown",
   "id": "b4f6d473",
   "metadata": {},
   "source": [
    "we map the contour of the right side of the complex plane with the transfer function."
   ]
  },
  {
   "cell_type": "markdown",
   "id": "395e470f",
   "metadata": {},
   "source": [
    "Find three points to plug into the transfer function. i.e. $p_1=0+0i$,mapping$=\\frac{500}{(1)(3)(10)}$ , and the point $p_1$ is now drawn on the newly mapped graph as being at $500/30$ instead of at $0$.  $p_2=i\\omega$ , mapping =$\\frac{500}{\\sqrt{(1+\\omega^2)}\\sqrt{(3^2+\\omega^2)}\\sqrt{(10^2+\\omega^2)}}<-(magnitude) and -\\theta_1-\\theta_2-\\theta_3 <-(angle)$, where the angles can be found with the tangent function as the vectors are drawn from the poles to $p_2$"
   ]
  },
  {
   "cell_type": "markdown",
   "id": "3422e013",
   "metadata": {},
   "source": [
    "We want to know the new boundary where an input that's purely imaginary (open loop frequency response) crosses the negative real line, known as $Q'$, since we know that plugging in $\\inf i$ yields the angular negative of plugging in $-\\inf i$."
   ]
  },
  {
   "cell_type": "markdown",
   "id": "206ccf0b",
   "metadata": {},
   "source": [
    "Find this by plugging in $i\\omega$ for $s$, multiplying by the complex conjugate to get the imaginary component on top, and then setting the imaginary componenent to $0$, solve that section for $\\omega$. "
   ]
  },
  {
   "cell_type": "markdown",
   "id": "10e9e660",
   "metadata": {},
   "source": [
    "N represents the poles encircled by the nyquist diagram, changing the gain can cause the number of counter clockwise rotations around -1 to change which can then change the number of enclosed closed loop poles. Since the enclosure is the right half, a positive Z value determines instability. The function mapping is the thing that changes, not -1, obviously. So it's better for -1 to be enclosed. Use the starting, ending locations of the root locus to determine whether a large k gain will cause -1 to be enclosed. "
   ]
  },
  {
   "cell_type": "markdown",
   "id": "c678ddad",
   "metadata": {},
   "source": [
    "$Q'$ will have a phase angle of $-180^0$, and the magnitude of that quantity will determine the number of rotations around -1."
   ]
  },
  {
   "cell_type": "markdown",
   "id": "9d58858b",
   "metadata": {},
   "source": [
    "Example: tf$=\\frac{K}{(s^2+2s+2)(s+2)}$, then if $\\newline Z=P-N$ we know that there are no positive values of s for which the transfer function goes to $inf$, so P=0. $\\newline$ The goal is to find the minimum value of $K$ for which $N=0$, so $Z=0$. "
   ]
  },
  {
   "cell_type": "markdown",
   "id": "8a40086d",
   "metadata": {},
   "source": [
    "To solve initially, we let $K=1$ and find the frequency response negative line crossing $Q'$, by plugging $i\\omega=s$ into the transfer function and then solving $Im(G(i\\omega))=0$ for $\\omega$. The calculation reveals that $\\omega=\\sqrt{6}$. Substituting $\\omega=\\sqrt{6}$ into $G(i\\omega)$, the result is $-\\frac{K}{20}$, so we see that unless $K>20$, the system will be stable. $\\newline$ At $K=20$, the system is marginally stable and the radian frequency of oscillation is $\\omega=\\sqrt{6}$.  "
   ]
  },
  {
   "cell_type": "markdown",
   "id": "f2d51819",
   "metadata": {},
   "source": [
    "Gain Margin $G_M (dB)$ is the amount the system's gain can change before it becomes unstable given its current gain. $\\newline$\n",
    "Phase margin is the amount the system's phase can change before it becomes unstable given its current phase. $\\newline$ \n",
    "Example (FINDING GAIN AND PHASE MARGINS): $\\newline$\n",
    "Gain Margin: $G(s)=\\frac{6}{(s^2+2s+2)(s+2)}$, so $G(i\\omega)=\\frac{-6}{20}$, so we find the gain margin by finding the value $a$ which converts that to -1 , $G(i\\omega)(a)=-1$ ; $a=\\frac{20}{6}$, and the gain margin is 20 $log({a})$."
   ]
  },
  {
   "cell_type": "markdown",
   "id": "75356829",
   "metadata": {},
   "source": [
    "We find the phase margin by first setting the frequency response of the open loop transfer function equal to $1$, unity magnitude. Then solve for $\\omega$. $\\newline$ Phase Margin: $G(i\\omega)=\\frac{6}{(s^2+2s+2)(s+2)}$. If, $|G(i\\omega)|=1$, we find that $\\omega=1.253$ $rad/s$, then plug that back in to $G(i\\omega)$, which will result in $-112.3^o$, and the phase margin is $-112.3^o-180^o=67.7^o$. There are other answers for $\\omega$, but they are complex or negative, and the ideal one is the one that is real and positive."
   ]
  },
  {
   "cell_type": "markdown",
   "id": "8c15ae5f",
   "metadata": {},
   "source": []
  }
 ],
 "metadata": {
  "kernelspec": {
   "display_name": "Julia 1.6.3",
   "language": "julia",
   "name": "julia-1.6"
  },
  "language_info": {
   "file_extension": ".jl",
   "mimetype": "application/julia",
   "name": "julia",
   "version": "1.6.3"
  }
 },
 "nbformat": 4,
 "nbformat_minor": 5
}
